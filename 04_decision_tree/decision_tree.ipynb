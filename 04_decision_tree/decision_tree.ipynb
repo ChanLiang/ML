{
 "cells": [
  {
   "cell_type": "markdown",
   "metadata": {},
   "source": [
    "##### @Time    : 2019/4/6 \n",
    "##### @Author  : ChanLiang\n",
    "##### @Github  ：https://github.com/ChanLiang"
   ]
  },
  {
   "cell_type": "markdown",
   "metadata": {},
   "source": [
    "# 决策树"
   ]
  },
  {
   "cell_type": "code",
   "execution_count": 1,
   "metadata": {},
   "outputs": [],
   "source": [
    "import numpy as np\n",
    "import pandas as pd\n",
    "import matplotlib.pyplot as plt\n",
    "import math\n",
    "from sklearn.datasets import load_iris"
   ]
  },
  {
   "cell_type": "markdown",
   "metadata": {},
   "source": [
    "### 1. 创建数据集"
   ]
  },
  {
   "cell_type": "code",
   "execution_count": 2,
   "metadata": {},
   "outputs": [],
   "source": [
    "################################################################################\n",
    "''' 创建数据集，以 DataFrame 格式返回 '''\n",
    "\n",
    "def create_data():\n",
    "    \n",
    "    ''' 创建数据集 和 每个维度的名称 '''\n",
    "    \n",
    "    datasets = [['青年', '否', '否', '一般', '否'],\n",
    "               ['青年', '否', '否', '好', '否'],\n",
    "               ['青年', '是', '否', '好', '是'],\n",
    "               ['青年', '是', '是', '一般', '是'],\n",
    "               ['青年', '否', '否', '一般', '否'],\n",
    "               ['中年', '否', '否', '一般', '否'],\n",
    "               ['中年', '否', '否', '好', '否'],\n",
    "               ['中年', '是', '是', '好', '是'],\n",
    "               ['中年', '否', '是', '非常好', '是'],\n",
    "               ['中年', '否', '是', '非常好', '是'],\n",
    "               ['老年', '否', '是', '非常好', '是'],\n",
    "               ['老年', '否', '是', '好', '是'],\n",
    "               ['老年', '是', '否', '好', '是'],\n",
    "               ['老年', '是', '否', '非常好', '是'],\n",
    "               ['老年', '否', '否', '一般', '否'],\n",
    "               ]\n",
    "    feature_names = [u'年龄', u'有工作', u'有自己的房子', u'信贷情况', u'类别']\n",
    "    \n",
    "    ''' 用数据集 和 属性名 构造 DataFrame, 并返回 '''\n",
    "    \n",
    "    df = pd.DataFrame(datasets, columns = feature_names)\n",
    "    \n",
    "    return df"
   ]
  },
  {
   "cell_type": "code",
   "execution_count": 3,
   "metadata": {},
   "outputs": [
    {
     "data": {
      "text/html": [
       "<div>\n",
       "<style scoped>\n",
       "    .dataframe tbody tr th:only-of-type {\n",
       "        vertical-align: middle;\n",
       "    }\n",
       "\n",
       "    .dataframe tbody tr th {\n",
       "        vertical-align: top;\n",
       "    }\n",
       "\n",
       "    .dataframe thead th {\n",
       "        text-align: right;\n",
       "    }\n",
       "</style>\n",
       "<table border=\"1\" class=\"dataframe\">\n",
       "  <thead>\n",
       "    <tr style=\"text-align: right;\">\n",
       "      <th></th>\n",
       "      <th>年龄</th>\n",
       "      <th>有工作</th>\n",
       "      <th>有自己的房子</th>\n",
       "      <th>信贷情况</th>\n",
       "      <th>类别</th>\n",
       "    </tr>\n",
       "  </thead>\n",
       "  <tbody>\n",
       "    <tr>\n",
       "      <th>0</th>\n",
       "      <td>青年</td>\n",
       "      <td>否</td>\n",
       "      <td>否</td>\n",
       "      <td>一般</td>\n",
       "      <td>否</td>\n",
       "    </tr>\n",
       "    <tr>\n",
       "      <th>1</th>\n",
       "      <td>青年</td>\n",
       "      <td>否</td>\n",
       "      <td>否</td>\n",
       "      <td>好</td>\n",
       "      <td>否</td>\n",
       "    </tr>\n",
       "    <tr>\n",
       "      <th>2</th>\n",
       "      <td>青年</td>\n",
       "      <td>是</td>\n",
       "      <td>否</td>\n",
       "      <td>好</td>\n",
       "      <td>是</td>\n",
       "    </tr>\n",
       "    <tr>\n",
       "      <th>3</th>\n",
       "      <td>青年</td>\n",
       "      <td>是</td>\n",
       "      <td>是</td>\n",
       "      <td>一般</td>\n",
       "      <td>是</td>\n",
       "    </tr>\n",
       "    <tr>\n",
       "      <th>4</th>\n",
       "      <td>青年</td>\n",
       "      <td>否</td>\n",
       "      <td>否</td>\n",
       "      <td>一般</td>\n",
       "      <td>否</td>\n",
       "    </tr>\n",
       "    <tr>\n",
       "      <th>5</th>\n",
       "      <td>中年</td>\n",
       "      <td>否</td>\n",
       "      <td>否</td>\n",
       "      <td>一般</td>\n",
       "      <td>否</td>\n",
       "    </tr>\n",
       "    <tr>\n",
       "      <th>6</th>\n",
       "      <td>中年</td>\n",
       "      <td>否</td>\n",
       "      <td>否</td>\n",
       "      <td>好</td>\n",
       "      <td>否</td>\n",
       "    </tr>\n",
       "    <tr>\n",
       "      <th>7</th>\n",
       "      <td>中年</td>\n",
       "      <td>是</td>\n",
       "      <td>是</td>\n",
       "      <td>好</td>\n",
       "      <td>是</td>\n",
       "    </tr>\n",
       "    <tr>\n",
       "      <th>8</th>\n",
       "      <td>中年</td>\n",
       "      <td>否</td>\n",
       "      <td>是</td>\n",
       "      <td>非常好</td>\n",
       "      <td>是</td>\n",
       "    </tr>\n",
       "    <tr>\n",
       "      <th>9</th>\n",
       "      <td>中年</td>\n",
       "      <td>否</td>\n",
       "      <td>是</td>\n",
       "      <td>非常好</td>\n",
       "      <td>是</td>\n",
       "    </tr>\n",
       "    <tr>\n",
       "      <th>10</th>\n",
       "      <td>老年</td>\n",
       "      <td>否</td>\n",
       "      <td>是</td>\n",
       "      <td>非常好</td>\n",
       "      <td>是</td>\n",
       "    </tr>\n",
       "    <tr>\n",
       "      <th>11</th>\n",
       "      <td>老年</td>\n",
       "      <td>否</td>\n",
       "      <td>是</td>\n",
       "      <td>好</td>\n",
       "      <td>是</td>\n",
       "    </tr>\n",
       "    <tr>\n",
       "      <th>12</th>\n",
       "      <td>老年</td>\n",
       "      <td>是</td>\n",
       "      <td>否</td>\n",
       "      <td>好</td>\n",
       "      <td>是</td>\n",
       "    </tr>\n",
       "    <tr>\n",
       "      <th>13</th>\n",
       "      <td>老年</td>\n",
       "      <td>是</td>\n",
       "      <td>否</td>\n",
       "      <td>非常好</td>\n",
       "      <td>是</td>\n",
       "    </tr>\n",
       "    <tr>\n",
       "      <th>14</th>\n",
       "      <td>老年</td>\n",
       "      <td>否</td>\n",
       "      <td>否</td>\n",
       "      <td>一般</td>\n",
       "      <td>否</td>\n",
       "    </tr>\n",
       "  </tbody>\n",
       "</table>\n",
       "</div>"
      ],
      "text/plain": [
       "    年龄 有工作 有自己的房子 信贷情况 类别\n",
       "0   青年   否      否   一般  否\n",
       "1   青年   否      否    好  否\n",
       "2   青年   是      否    好  是\n",
       "3   青年   是      是   一般  是\n",
       "4   青年   否      否   一般  否\n",
       "5   中年   否      否   一般  否\n",
       "6   中年   否      否    好  否\n",
       "7   中年   是      是    好  是\n",
       "8   中年   否      是  非常好  是\n",
       "9   中年   否      是  非常好  是\n",
       "10  老年   否      是  非常好  是\n",
       "11  老年   否      是    好  是\n",
       "12  老年   是      否    好  是\n",
       "13  老年   是      否  非常好  是\n",
       "14  老年   否      否   一般  否"
      ]
     },
     "execution_count": 3,
     "metadata": {},
     "output_type": "execute_result"
    }
   ],
   "source": [
    "''' 创建训练数据集 '''\n",
    "\n",
    "train_data = create_data()\n",
    "train_data"
   ]
  },
  {
   "cell_type": "markdown",
   "metadata": {},
   "source": [
    "### 2.先实现计算熵，条件熵的函数，进行一次基于信息增益的最基本的特征选择过程"
   ]
  },
  {
   "cell_type": "code",
   "execution_count": 37,
   "metadata": {},
   "outputs": [],
   "source": [
    "#############################################################################################################\n",
    "''' 计算某一列的熵 '''\n",
    "\n",
    "def entropy(col):   # col:list类型\n",
    "    \n",
    "    ''' 记录该列中不同类别分别有多少个 '''\n",
    "    \n",
    "    counts = {}\n",
    "    for c in col:\n",
    "        counts[c] = counts.get(c, 0) + 1\n",
    "    \n",
    "    ''' 计算香农熵,并返回 '''\n",
    "    \n",
    "    return np.sum([-count/len(col) * math.log(count/len(col), 2) for count in counts.values()])\n",
    "    \n",
    "\n",
    "#############################################################################################################\n",
    "''' 计算引入某一列特征后， Y这一列的 条件熵 大小'''\n",
    "\n",
    "def conditional_entropy(dataset, col):  # dataset: ndarray    condition_col: int类型\n",
    "    \n",
    "    ''' 依据该属性值将原始数据集(Y这一列)划分成不同的子集 '''\n",
    "    \n",
    "    dic = {}\n",
    "    for row in dataset:\n",
    "        if row[col] not in dic:\n",
    "            dic[row[col]] = []\n",
    "        dic[row[col]].append(row[-1])\n",
    "        \n",
    "    ''' 计算不同子集的熵，乘上各自系数再加和，组成条件熵(用该属性划分后所得子系统的熵) '''\n",
    "    \n",
    "    conditional_entropy = np.sum([len(subset)/len(dataset) * entropy(subset) for subset in dic.values()])\n",
    "    \n",
    "    return conditional_entropy\n",
    "\n",
    "#############################################################################################################\n",
    "''' 选择最好的节点分裂属性 '''\n",
    "\n",
    "def chooseBestFeatureToSplit(dataset):  # dataset: ndarray\n",
    "    \n",
    "    ''' 先计算整个系统(Y)的熵 '''\n",
    "    \n",
    "    ent = entropy(dataset[-1])\n",
    "    \n",
    "    ''' 依次计算所有属性分裂的 信息增益 ，并记录最佳属性(信息增益最大) '''\n",
    "    \n",
    "    max_info_gain, best_feature = 0, -1\n",
    "    for i in range(len(dataset[0]) - 1):\n",
    "        con_ent = conditional_entropy(dataset, i)\n",
    "        info_gain = ent - con_ent\n",
    "        if info_gain > max_info_gain:\n",
    "            max_info_gain, best_feature = info_gain, i\n",
    "            \n",
    "    ''' 返回最佳分裂属性的下标 '''\n",
    "    \n",
    "    return best_feature"
   ]
  },
  {
   "cell_type": "code",
   "execution_count": 38,
   "metadata": {},
   "outputs": [
    {
     "data": {
      "text/plain": [
       "0.9709505944546686"
      ]
     },
     "execution_count": 38,
     "metadata": {},
     "output_type": "execute_result"
    }
   ],
   "source": [
    "''' 计算下Y这一列的的 香农熵 大小 '''\n",
    "\n",
    "ent = entropy(train_data['类别'].values)\n",
    "ent"
   ]
  },
  {
   "cell_type": "code",
   "execution_count": 41,
   "metadata": {},
   "outputs": [
    {
     "name": "stdout",
     "output_type": "stream",
     "text": [
      "infomation gain of feature 年龄 is  0.08300749985576883\n",
      "infomation gain of feature 有工作 is  0.32365019815155627\n",
      "infomation gain of feature 有自己的房子 is  0.4199730940219749\n",
      "infomation gain of feature 信贷情况 is  0.36298956253708536\n"
     ]
    }
   ],
   "source": [
    "''' 计算用各个属性划分后 信息增益 的大小 '''\n",
    "\n",
    "for col in range(4):\n",
    "    con_ent = conditional_entropy(train_data.values, col)\n",
    "    print ('infomation gain of feature ' + train_data.columns[col] + ' is ', ent - con_ent)"
   ]
  },
  {
   "cell_type": "code",
   "execution_count": 31,
   "metadata": {},
   "outputs": [
    {
     "name": "stdout",
     "output_type": "stream",
     "text": [
      "最佳分裂属性为： 有自己的房子\n"
     ]
    }
   ],
   "source": [
    "''' 计算数据集的首个 最佳分裂属性 '''\n",
    "\n",
    "feature_index = chooseBestFeatureToSplit(train_data.values)\n",
    "print ('最佳分裂属性为：', train_data.columns[feature_index])"
   ]
  },
  {
   "cell_type": "markdown",
   "metadata": {},
   "source": [
    "### 3. 基本的函数都实现了，下一步把它们拼接成一个DT"
   ]
  },
  {
   "cell_type": "markdown",
   "metadata": {},
   "source": [
    "##### 还缺哪些函数呢？一个是`节点分裂函数`，一个是`多数投票函数`，还有一个`递归建树的函数`"
   ]
  },
  {
   "cell_type": "code",
   "execution_count": 60,
   "metadata": {},
   "outputs": [],
   "source": [
    "class DecisionTree(object):\n",
    "    #############################################################################################################\n",
    "    ''' 计算某一列的熵 '''\n",
    "\n",
    "    def entropy(self, col):   # col:list类型\n",
    "\n",
    "        ''' 记录该列中不同类别分别有多少个 '''\n",
    "\n",
    "        counts = {}\n",
    "        for c in col:\n",
    "            counts[c] = counts.get(c, 0) + 1\n",
    "\n",
    "        ''' 计算香农熵,并返回 '''\n",
    "\n",
    "        return np.sum([-count/len(col) * math.log(count/len(col), 2) for count in counts.values()])\n",
    "\n",
    "\n",
    "    #############################################################################################################\n",
    "    ''' 计算引入某一列特征后， Y这一列的 条件熵 大小'''\n",
    "\n",
    "    def conditional_entropy(self, dataset, col):  # dataset: ndarray    condition_col: int类型\n",
    "\n",
    "        ''' 依据该属性值将原始数据集(Y这一列)划分成不同的子集 '''\n",
    "\n",
    "        dic = {}\n",
    "        for row in dataset:\n",
    "            if row[col] not in dic:\n",
    "                dic[row[col]] = []\n",
    "            dic[row[col]].append(row[-1])\n",
    "\n",
    "        ''' 计算不同子集的熵，乘上各自系数再加和，组成条件熵(用该属性划分后所得子系统的熵) '''\n",
    "\n",
    "        conditional_entropy = np.sum([len(subset)/len(dataset) * self.entropy(subset) for subset in dic.values()])\n",
    "\n",
    "        return conditional_entropy\n",
    "\n",
    "    #############################################################################################################\n",
    "    ''' 选择最好的节点分裂属性 '''\n",
    "\n",
    "    def chooseBestFeatureToSplit(self, dataset):  # dataset: ndarray\n",
    "\n",
    "        ''' 先计算整个系统(Y)的熵 '''\n",
    "\n",
    "        ent = self.entropy(dataset[-1])\n",
    "\n",
    "        ''' 依次计算所有属性分裂的 信息增益 ，并记录最佳属性(信息增益最大) '''\n",
    "\n",
    "        max_info_gain, best_feature = 0, -1\n",
    "        for i in range(len(dataset[0]) - 1):\n",
    "            con_ent = self.conditional_entropy(dataset, i)\n",
    "            info_gain = ent - con_ent\n",
    "            if info_gain > max_info_gain:\n",
    "                max_info_gain, best_feature = info_gain, i\n",
    "\n",
    "        ''' 返回最佳分裂属性的下标 '''\n",
    "\n",
    "        return best_feature\n",
    "    \n",
    "    #############################################################################################################\n",
    "    ''' 节点分裂函数(依据某一列属性) '''\n",
    "    \n",
    "    def splitNode(self, dataset, col):   # dataset: ndarray, col: int\n",
    "        \n",
    "        ''' 先看看这一列属性有几个取值 '''\n",
    "        \n",
    "        feature_vals = set([row[col] for row in dataset])\n",
    "        \n",
    "        ''' 有几个值就能划分出几个子节点, 组成子节点列表返回 '''\n",
    "        \n",
    "        subset_list, val_list = [], []\n",
    "        for val in feature_vals:\n",
    "            subset = []\n",
    "            for row in dataset:\n",
    "                if row[col] == val:\n",
    "                    row = list(row) # 坑：这里不把ndarray转化成一般list的话，后续切片拼接会出现很奇怪的答案\n",
    "                    row = row[:col] + row[col + 1:]\n",
    "                    subset.append(row)\n",
    "            subset_list.append(subset)\n",
    "            val_list.append(val)\n",
    "            \n",
    "        return subset_list, val_list\n",
    "    \n",
    "    #############################################################################################################\n",
    "    ''' 多数类投票函数: 用于决定不纯子节点的类别 '''\n",
    "    \n",
    "    def majorityVoting(self, dataset):   # dataset: ndarray\n",
    "        \n",
    "        ''' 统计该节点中不同类别出现的次数 '''\n",
    "        \n",
    "        class_counts = {}\n",
    "        for row in dataset:\n",
    "            class_counts[row[-1]] = class_counts.get(row[-1], 0) + 1\n",
    "        \n",
    "        ''' 对字典排序 并返回出现最多的类 '''\n",
    "        \n",
    "        tuple_list = sorted(class_counts.items(), key = lambda e : e[1], reverse = True)\n",
    "        \n",
    "        return tuple_list[0][0]\n",
    "    \n",
    "    #############################################################################################################\n",
    "    ''' 递归构建一棵二叉树 '''\n",
    "    \n",
    "    def createTree(self, dataset, feature_names):   # dataset: ndarray,   feature_names: list\n",
    "        \n",
    "        ''' 递归终止条件 '''\n",
    "        \n",
    "        class_list = [row[-1] for row in dataset]\n",
    "        if len(dataset[0]) == 1:\n",
    "            return self.majorityVoting(dataset)\n",
    "        if len(set(class_list)) == 1:\n",
    "            return class_list[0]\n",
    "        \n",
    "        ''' 找到最佳分裂属性 '''\n",
    "        \n",
    "        best_feature_col = self.chooseBestFeatureToSplit(dataset)\n",
    "        best_feature = feature_names[best_feature_col]\n",
    "        \n",
    "        ''' 用该属性分裂节点 '''\n",
    "        \n",
    "        subset_list, val_list = self.splitNode(dataset, best_feature_col)\n",
    "        tree = {best_feature:{}}\n",
    "        for i in range(len(val_list)):\n",
    "            tree[best_feature][val_list[i]] = self.createTree(subset_list[i], feature_names[:best_feature_col] + feature_names[best_feature_col + 1:])\n",
    "        \n",
    "        return tree\n",
    "    \n"
   ]
  },
  {
   "cell_type": "code",
   "execution_count": 61,
   "metadata": {},
   "outputs": [
    {
     "data": {
      "text/plain": [
       "([[['青年', '否', '一般', '否'],\n",
       "   ['青年', '否', '好', '否'],\n",
       "   ['青年', '是', '好', '是'],\n",
       "   ['青年', '否', '一般', '否'],\n",
       "   ['中年', '否', '一般', '否'],\n",
       "   ['中年', '否', '好', '否'],\n",
       "   ['老年', '是', '好', '是'],\n",
       "   ['老年', '是', '非常好', '是'],\n",
       "   ['老年', '否', '一般', '否']],\n",
       "  [['青年', '是', '一般', '是'],\n",
       "   ['中年', '是', '好', '是'],\n",
       "   ['中年', '否', '非常好', '是'],\n",
       "   ['中年', '否', '非常好', '是'],\n",
       "   ['老年', '否', '非常好', '是'],\n",
       "   ['老年', '否', '好', '是']]],\n",
       " ['否', '是'])"
      ]
     },
     "execution_count": 61,
     "metadata": {},
     "output_type": "execute_result"
    }
   ],
   "source": [
    "''' 测试 划分子节点函数 '''\n",
    "\n",
    "model = DecisionTree()\n",
    "model.splitNode(train_data.values, 2)"
   ]
  },
  {
   "cell_type": "code",
   "execution_count": 62,
   "metadata": {},
   "outputs": [
    {
     "data": {
      "text/plain": [
       "'是'"
      ]
     },
     "execution_count": 62,
     "metadata": {},
     "output_type": "execute_result"
    }
   ],
   "source": [
    "''' 测试投票函数 '''\n",
    "\n",
    "model.majorityVoting(train_data.values)"
   ]
  },
  {
   "cell_type": "code",
   "execution_count": 63,
   "metadata": {},
   "outputs": [
    {
     "data": {
      "text/plain": [
       "{'有自己的房子': {'否': {'有工作类别': {'否': '否', '是': '是'}}, '是': '是'}}"
      ]
     },
     "execution_count": 63,
     "metadata": {},
     "output_type": "execute_result"
    }
   ],
   "source": [
    "''' 测试建树函数 '''\n",
    "\n",
    "model.createTree(train_data.values, train_data.columns)"
   ]
  },
  {
   "cell_type": "code",
   "execution_count": null,
   "metadata": {},
   "outputs": [],
   "source": []
  }
 ],
 "metadata": {
  "kernelspec": {
   "display_name": "tensorflow",
   "language": "python",
   "name": "tensorflow"
  },
  "language_info": {
   "codemirror_mode": {
    "name": "ipython",
    "version": 3
   },
   "file_extension": ".py",
   "mimetype": "text/x-python",
   "name": "python",
   "nbconvert_exporter": "python",
   "pygments_lexer": "ipython3",
   "version": "3.5.4"
  }
 },
 "nbformat": 4,
 "nbformat_minor": 2
}
