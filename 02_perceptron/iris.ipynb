{
 "cells": [
  {
   "cell_type": "markdown",
   "metadata": {},
   "source": [
    "##### @Time    : 2019/4/4 22:09\n",
    "##### @Author  : ChanLiang\n",
    "##### @Github  ：https://github.com/ChanLiang"
   ]
  },
  {
   "cell_type": "markdown",
   "metadata": {},
   "source": [
    "# iris数据集—perceptron"
   ]
  },
  {
   "cell_type": "markdown",
   "metadata": {},
   "source": [
    "## 一. 首先制作一个线性可分的数据集"
   ]
  },
  {
   "cell_type": "code",
   "execution_count": 1,
   "metadata": {},
   "outputs": [],
   "source": [
    "import pandas as pd\n",
    "import numpy as np\n",
    "from sklearn.datasets import load_iris\n",
    "import matplotlib.pyplot as plt"
   ]
  },
  {
   "cell_type": "markdown",
   "metadata": {},
   "source": [
    "先看看iris里啥样？"
   ]
  },
  {
   "cell_type": "code",
   "execution_count": 2,
   "metadata": {},
   "outputs": [],
   "source": [
    "iris = load_iris()\n",
    "#iris"
   ]
  },
  {
   "cell_type": "markdown",
   "metadata": {},
   "source": [
    "乱七八糟的！头疼，还好知道里边有哪几个东西，我们把它搞成一个DataFrame吧~~~"
   ]
  },
  {
   "cell_type": "code",
   "execution_count": 3,
   "metadata": {},
   "outputs": [
    {
     "data": {
      "text/html": [
       "<div>\n",
       "<style scoped>\n",
       "    .dataframe tbody tr th:only-of-type {\n",
       "        vertical-align: middle;\n",
       "    }\n",
       "\n",
       "    .dataframe tbody tr th {\n",
       "        vertical-align: top;\n",
       "    }\n",
       "\n",
       "    .dataframe thead th {\n",
       "        text-align: right;\n",
       "    }\n",
       "</style>\n",
       "<table border=\"1\" class=\"dataframe\">\n",
       "  <thead>\n",
       "    <tr style=\"text-align: right;\">\n",
       "      <th></th>\n",
       "      <th>sepal length</th>\n",
       "      <th>sepal width</th>\n",
       "      <th>petal length</th>\n",
       "      <th>petal width</th>\n",
       "      <th>label</th>\n",
       "    </tr>\n",
       "  </thead>\n",
       "  <tbody>\n",
       "    <tr>\n",
       "      <th>0</th>\n",
       "      <td>5.1</td>\n",
       "      <td>3.5</td>\n",
       "      <td>1.4</td>\n",
       "      <td>0.2</td>\n",
       "      <td>0.0</td>\n",
       "    </tr>\n",
       "    <tr>\n",
       "      <th>1</th>\n",
       "      <td>4.9</td>\n",
       "      <td>3.0</td>\n",
       "      <td>1.4</td>\n",
       "      <td>0.2</td>\n",
       "      <td>0.0</td>\n",
       "    </tr>\n",
       "    <tr>\n",
       "      <th>2</th>\n",
       "      <td>4.7</td>\n",
       "      <td>3.2</td>\n",
       "      <td>1.3</td>\n",
       "      <td>0.2</td>\n",
       "      <td>0.0</td>\n",
       "    </tr>\n",
       "    <tr>\n",
       "      <th>3</th>\n",
       "      <td>4.6</td>\n",
       "      <td>3.1</td>\n",
       "      <td>1.5</td>\n",
       "      <td>0.2</td>\n",
       "      <td>0.0</td>\n",
       "    </tr>\n",
       "    <tr>\n",
       "      <th>4</th>\n",
       "      <td>5.0</td>\n",
       "      <td>3.6</td>\n",
       "      <td>1.4</td>\n",
       "      <td>0.2</td>\n",
       "      <td>0.0</td>\n",
       "    </tr>\n",
       "    <tr>\n",
       "      <th>5</th>\n",
       "      <td>5.4</td>\n",
       "      <td>3.9</td>\n",
       "      <td>1.7</td>\n",
       "      <td>0.4</td>\n",
       "      <td>0.0</td>\n",
       "    </tr>\n",
       "  </tbody>\n",
       "</table>\n",
       "</div>"
      ],
      "text/plain": [
       "   sepal length  sepal width  petal length  petal width  label\n",
       "0           5.1          3.5           1.4          0.2    0.0\n",
       "1           4.9          3.0           1.4          0.2    0.0\n",
       "2           4.7          3.2           1.3          0.2    0.0\n",
       "3           4.6          3.1           1.5          0.2    0.0\n",
       "4           5.0          3.6           1.4          0.2    0.0\n",
       "5           5.4          3.9           1.7          0.4    0.0"
      ]
     },
     "execution_count": 3,
     "metadata": {},
     "output_type": "execute_result"
    }
   ],
   "source": [
    "# 注意：在做hstack时，合并双方的维度必须相同，所以做一个reshape\n",
    "df = pd.DataFrame(np.hstack((iris.data, iris.target.reshape(150, 1))), columns = ['sepal length', 'sepal width', 'petal length', 'petal width', 'label'])\n",
    "df.head(6)\n",
    "#df"
   ]
  },
  {
   "cell_type": "markdown",
   "metadata": {},
   "source": [
    "这里我们只取前两列特征，而且只取前两类数据（前100行）"
   ]
  },
  {
   "cell_type": "code",
   "execution_count": 6,
   "metadata": {},
   "outputs": [
    {
     "name": "stdout",
     "output_type": "stream",
     "text": [
      "(100, 2)\n",
      "(100, 1)\n"
     ]
    }
   ],
   "source": [
    "# 其实前边也可以不用转成df, 直接用np的二维数组也可以\n",
    "X, Y = df.values[:100, [0, 1]], df.values[:100, -1]\n",
    "assert len(X) == len(Y)\n",
    "Y = np.array([1 if y == 1 else -1 for y in Y]).reshape(100, 1)   # 很关键！一档要将标签变为-1/1,如果是0/1喂进去会死循环...\n",
    "print (X.shape)\n",
    "print (Y.shape)"
   ]
  },
  {
   "cell_type": "markdown",
   "metadata": {},
   "source": [
    "那么这个问题变成了一个定义在二维特征空间上的一个二分类问题。<br>\n",
    "要想用感知机来做，首先，我们需要看看这么取能不能保证数据是线性可分的，不妨画个散点图看看"
   ]
  },
  {
   "cell_type": "code",
   "execution_count": 7,
   "metadata": {},
   "outputs": [
    {
     "data": {
      "image/png": "[encoded data removed]",
      "text/plain": [
       "<Figure size 432x288 with 1 Axes>"
      ]
     },
     "metadata": {},
     "output_type": "display_data"
    }
   ],
   "source": [
    "plt.scatter(X[:50, 0], X[:50, 1], color='blue', label='0')\n",
    "plt.scatter(X[50:100, 0], X[50:100, 1], color='orange', label='1')\n",
    "plt.legend()\n",
    "plt.show()"
   ]
  },
  {
   "cell_type": "markdown",
   "metadata": {},
   "source": [
    "很容易看出，数据是线性可分的，下面我们用之前写好的perceptron来进行分类"
   ]
  },
  {
   "cell_type": "markdown",
   "metadata": {},
   "source": [
    "## 二. 使用perceptron分类"
   ]
  },
  {
   "cell_type": "markdown",
   "metadata": {},
   "source": [
    "直接把perceptron.py中的代码拷贝过来使用"
   ]
  },
  {
   "cell_type": "code",
   "execution_count": 8,
   "metadata": {},
   "outputs": [],
   "source": [
    "class Perceptron(object):\n",
    "    def __init__(self, X, Y):\n",
    "        # 初始化参数w,b\n",
    "        self.w = np.zeros((len(X[0]), 1))  # w和样本x维度相同,注意要用列向量，不要用rank=1的array\n",
    "        self.b = 0\n",
    "        self.X, self.Y = X, Y\n",
    "\n",
    "    def train(self):\n",
    "        loop = True\n",
    "        step = 0.01\n",
    "        i = 0\n",
    "        while loop and i < 1000:  # 不断重复，直到训练集中没有误分类的点为止\n",
    "            i += 1\n",
    "            loop = False\n",
    "            for i in range(len(self.X)):\n",
    "                x, y = self.X[i].reshape((len(self.X[i]), 1)), self.Y[i]\n",
    "                # 每次选取一个误分点x，梯度下降更新参数w,b，直到模型能将x分对为止\n",
    "                while y * (np.dot(self.w.T, x) + self.b) <= 0:\n",
    "                    self.w += step * y * x\n",
    "                    self.b += step * y\n",
    "                    loop = True\n",
    "\n",
    "    def predict(self, x):\n",
    "        if np.dot(self.w, x) + self.b > 0:\n",
    "            return 1\n",
    "        else:\n",
    "            return -1"
   ]
  },
  {
   "cell_type": "markdown",
   "metadata": {},
   "source": [
    "用自制训练集来训练感知机模型"
   ]
  },
  {
   "cell_type": "code",
   "execution_count": 9,
   "metadata": {},
   "outputs": [],
   "source": [
    "model = Perceptron(X, Y)\n",
    "model.train()"
   ]
  },
  {
   "cell_type": "markdown",
   "metadata": {},
   "source": [
    "训练好了之后画出分割超平面，看看是否能够将两类点完全分开"
   ]
  },
  {
   "cell_type": "code",
   "execution_count": 13,
   "metadata": {},
   "outputs": [
    {
     "data": {
      "image/png": "[encoded data removed]",
      "text/plain": [
       "<Figure size 432x288 with 1 Axes>"
      ]
     },
     "metadata": {},
     "output_type": "display_data"
    }
   ],
   "source": [
    "# 返回区间[4,7]之间的10个元素的等差数列\n",
    "# 【注意】这里（x1, x2）就相当于（x, y）！\n",
    "x_points = np.linspace(4,7,2)\n",
    "y_ = -(model.w[0] * x_points +model.b)/model.w[1]\n",
    "plt.plot(x_points, y_)\n",
    "\n",
    "plt.scatter(X[:50, 0], X[:50, 1], color='blue', label='0')\n",
    "plt.scatter(X[50:100, 0], X[50:100, 1], color='orange', label='1')\n",
    "plt.xlabel('sepal length')\n",
    "plt.ylabel('sepal width')\n",
    "plt.legend()\n",
    "plt.show()"
   ]
  },
  {
   "cell_type": "markdown",
   "metadata": {},
   "source": [
    "可以看到，两类点已经被完全划分开了！"
   ]
  },
  {
   "cell_type": "code",
   "execution_count": null,
   "metadata": {},
   "outputs": [],
   "source": []
  }
 ],
 "metadata": {
  "kernelspec": {
   "display_name": "tensorflow",
   "language": "python",
   "name": "tensorflow"
  },
  "language_info": {
   "codemirror_mode": {
    "name": "ipython",
    "version": 3
   },
   "file_extension": ".py",
   "mimetype": "text/x-python",
   "name": "python",
   "nbconvert_exporter": "python",
   "pygments_lexer": "ipython3",
   "version": "3.5.4"
  }
 },
 "nbformat": 4,
 "nbformat_minor": 2
}
