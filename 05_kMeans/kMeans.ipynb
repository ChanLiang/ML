{
 "cells": [
  {
   "cell_type": "markdown",
   "metadata": {},
   "source": [
    "##### @Time    : 2019/4/7\n",
    "##### @Author  : ChanLiang\n",
    "##### @Github  ：https://github.com/ChanLiang"
   ]
  },
  {
   "cell_type": "markdown",
   "metadata": {},
   "source": [
    "# k均值"
   ]
  },
  {
   "cell_type": "code",
   "execution_count": 1,
   "metadata": {},
   "outputs": [],
   "source": [
    "import numpy as np\n",
    "import pandas as pd\n",
    "import matplotlib.pyplot as plt"
   ]
  },
  {
   "cell_type": "markdown",
   "metadata": {},
   "source": [
    "## 先看最基本的k均值算法"
   ]
  },
  {
   "cell_type": "markdown",
   "metadata": {},
   "source": [
    "### 1. 读数据"
   ]
  },
  {
   "cell_type": "code",
   "execution_count": 48,
   "metadata": {},
   "outputs": [],
   "source": [
    "####################################################################################################################\n",
    "''' 从 testSet.txt 中一行行读取用tab分割的浮点数 '''\n",
    "\n",
    "def loadDataSet(fileName):\n",
    "    \n",
    "    ''' 打开文件 '''\n",
    "    \n",
    "    file = open(fileName)\n",
    "    \n",
    "    ''' 逐行读取，保存为二维数组 '''\n",
    "    \n",
    "    matrix = []\n",
    "    for line in file.readlines():\n",
    "        line = line.strip().split()\n",
    "        line = [float(char) for char in line]   # 把list中的字符逐个转化成浮点型(py3中用map(func, list)会真弄成map...)\n",
    "        matrix.append(line)\n",
    "    \n",
    "    ''' 关闭文件，返回 matrix '''\n",
    "        \n",
    "    file.close()\n",
    "    return np.array(matrix)"
   ]
  },
  {
   "cell_type": "code",
   "execution_count": 119,
   "metadata": {},
   "outputs": [
    {
     "name": "stdout",
     "output_type": "stream",
     "text": [
      "80\n",
      "[[ 1.658985  4.285136]\n",
      " [-3.453687  3.424321]\n",
      " [ 4.838138 -1.151539]\n",
      " [-5.379713 -3.362104]\n",
      " [ 0.972564  2.924086]\n",
      " [-3.567919  1.531611]\n",
      " [ 0.450614 -3.302219]\n",
      " [-3.487105 -1.724432]\n",
      " [ 2.668759  1.594842]\n",
      " [-3.156485  3.191137]\n",
      " [ 3.165506 -3.999838]\n",
      " [-2.786837 -3.099354]\n",
      " [ 4.208187  2.984927]\n",
      " [-2.123337  2.943366]\n",
      " [ 0.704199 -0.479481]\n",
      " [-0.39237  -3.963704]\n",
      " [ 2.831667  1.574018]\n",
      " [-0.790153  3.343144]\n",
      " [ 2.943496 -3.357075]\n",
      " [-3.195883 -2.283926]\n",
      " [ 2.336445  2.875106]\n",
      " [-1.786345  2.554248]\n",
      " [ 2.190101 -1.90602 ]\n",
      " [-3.403367 -2.778288]\n",
      " [ 1.778124  3.880832]\n",
      " [-1.688346  2.230267]\n",
      " [ 2.592976 -2.054368]\n",
      " [-4.007257 -3.207066]\n",
      " [ 2.257734  3.387564]\n",
      " [-2.679011  0.785119]\n",
      " [ 0.939512 -4.023563]\n",
      " [-3.674424 -2.261084]\n",
      " [ 2.046259  2.735279]\n",
      " [-3.18947   1.780269]\n",
      " [ 4.372646 -0.822248]\n",
      " [-2.579316 -3.497576]\n",
      " [ 1.889034  5.1904  ]\n",
      " [-0.798747  2.185588]\n",
      " [ 2.83652  -2.658556]\n",
      " [-3.837877 -3.253815]\n",
      " [ 2.096701  3.886007]\n",
      " [-2.709034  2.923887]\n",
      " [ 3.367037 -3.184789]\n",
      " [-2.121479 -4.232586]\n",
      " [ 2.329546  3.179764]\n",
      " [-3.284816  3.273099]\n",
      " [ 3.091414 -3.815232]\n",
      " [-3.762093 -2.432191]\n",
      " [ 3.542056  2.778832]\n",
      " [-1.736822  4.241041]\n",
      " [ 2.127073 -2.98368 ]\n",
      " [-4.323818 -3.938116]\n",
      " [ 3.792121  5.135768]\n",
      " [-4.786473  3.358547]\n",
      " [ 2.624081 -3.260715]\n",
      " [-4.009299 -2.978115]\n",
      " [ 2.493525  1.96371 ]\n",
      " [-2.513661  2.642162]\n",
      " [ 1.864375 -3.176309]\n",
      " [-3.171184 -3.572452]\n",
      " [ 2.89422   2.489128]\n",
      " [-2.562539  2.884438]\n",
      " [ 3.491078 -3.947487]\n",
      " [-2.565729 -2.012114]\n",
      " [ 3.332948  3.983102]\n",
      " [-1.616805  3.573188]\n",
      " [ 2.280615 -2.559444]\n",
      " [-2.651229 -3.103198]\n",
      " [ 2.321395  3.154987]\n",
      " [-1.685703  2.939697]\n",
      " [ 3.031012 -3.620252]\n",
      " [-4.599622 -2.185829]\n",
      " [ 4.196223  1.126677]\n",
      " [-2.133863  3.093686]\n",
      " [ 4.668892 -2.562705]\n",
      " [-2.793241 -2.149706]\n",
      " [ 2.884105  3.043438]\n",
      " [-2.967647  2.848696]\n",
      " [ 4.479332 -1.764772]\n",
      " [-4.905566 -2.91107 ]]\n"
     ]
    }
   ],
   "source": [
    "''' 测试文件读取函数 '''\n",
    "\n",
    "dataMatrix = loadDataSet('testSet.txt')\n",
    "print (len(dataMatrix))\n",
    "print (dataMatrix)"
   ]
  },
  {
   "cell_type": "markdown",
   "metadata": {},
   "source": [
    "## 2. 生成k个中心点的函数"
   ]
  },
  {
   "cell_type": "markdown",
   "metadata": {},
   "source": [
    "随机生成`一定范围内的`k个质心(簇中心点)的函数（注意：x_min <= x <= x_max, 各维度都一样）"
   ]
  },
  {
   "cell_type": "code",
   "execution_count": 73,
   "metadata": {},
   "outputs": [],
   "source": [
    "#####################################################################################################\n",
    "''' 随机生成k个质心(簇中心点)的函数 '''\n",
    "\n",
    "def gen_centroids(k, dataSet):\n",
    "    \n",
    "    ''' 先随机初始化出来 '''\n",
    "    \n",
    "    dim = len(dataSet[0])\n",
    "    centroids = np.zeros((k, dim))\n",
    "    \n",
    "    ''' 逐个维度去生成，每一维度Xi都要满足， xi_min <= Xi <= xi_max'''\n",
    "    \n",
    "    for d in range(dim):\n",
    "        xd_min = np.min(dataSet[:, d])\n",
    "        xd_max = np.max(dataSet[:, d])\n",
    "        centroids[:, d] = xd_min + (xd_max - xd_min) * np.random.rand(k)   # 随机数维度不用加()了\n",
    "        \n",
    "    return centroids\n",
    "        "
   ]
  },
  {
   "cell_type": "code",
   "execution_count": 74,
   "metadata": {},
   "outputs": [
    {
     "name": "stdout",
     "output_type": "stream",
     "text": [
      "test_data =  [[3 4]\n",
      " [5 6]]\n"
     ]
    },
    {
     "data": {
      "text/plain": [
       "array([[4.93905215, 4.60373416],\n",
       "       [3.54303634, 5.1012873 ],\n",
       "       [3.21580921, 4.39038208]])"
      ]
     },
     "execution_count": 74,
     "metadata": {},
     "output_type": "execute_result"
    }
   ],
   "source": [
    "''' 测试生成质心的范围 '''\n",
    "\n",
    "test_data = np.arange(3, 7).reshape((2, 2))\n",
    "print ('test_data = ', test_data)\n",
    "gen_centroids(3, test_data)"
   ]
  },
  {
   "cell_type": "markdown",
   "metadata": {},
   "source": [
    "没毛病"
   ]
  },
  {
   "cell_type": "markdown",
   "metadata": {},
   "source": [
    "## 3. 万事具备，开始写kMeans算法了"
   ]
  },
  {
   "cell_type": "code",
   "execution_count": 104,
   "metadata": {},
   "outputs": [],
   "source": [
    "''' 传入 数据集 和 簇数， 传出中心点列表 和 assign_matrix[m][2]: 第一维表示每个点被分到哪个簇里了，第二维表示该点到所在簇中心的距离'''\n",
    "\n",
    "def kMeans(dataSet, k):\n",
    "    \n",
    "    ''' 初始化中心点 及 记录点分配的矩阵 '''\n",
    "    \n",
    "    centroids = gen_centroids(k, dataSet)\n",
    "    assign_matrix = np.zeros((len(dataSet), 2))\n",
    "    assign_changed = True\n",
    "    \n",
    "    while assign_changed:\n",
    "        assign_changed = False\n",
    "        \n",
    "        ''' 把每个点分配到最近的中心点去 '''\n",
    "        \n",
    "        for i in range(len(dataSet)):\n",
    "            distances = np.sum((np.tile(dataSet[i], (k, 1)) - centroids) ** 2, axis = 1) ** 0.5\n",
    "            centroid_index = np.argmin(distances)\n",
    "            if assign_matrix[i][0] != centroid_index:\n",
    "                assign_changed = True\n",
    "            assign_matrix[i][0], assign_matrix[i][1] = centroid_index, distances[centroid_index]\n",
    "            \n",
    "        ''' 更新各簇中心点(质心) '''\n",
    "        \n",
    "        cent_points = [[] for _ in range(k)]\n",
    "        for j in range(k):  # 更新第j个簇的质心\n",
    "            for i in range(len(dataSet)):\n",
    "                if assign_matrix[i][0] == j:\n",
    "                    cent_points[j].append(dataSet[i])\n",
    "            centroids[j, :] = np.mean(cent_points[j], axis = 0)\n",
    "            \n",
    "    ''' 迭代结束时，返回 簇中心点 及 所有点的分配矩阵 '''\n",
    "    #print (assign_matrix)\n",
    "    return centroids, np.array(cent_points)"
   ]
  },
  {
   "cell_type": "code",
   "execution_count": 114,
   "metadata": {},
   "outputs": [],
   "source": [
    "''' 验证kMean算法 '''\n",
    "\n",
    "centroids, cent_points = kMeans(dataMatrix, 4)\n",
    "cent_points = [np.array(cent_points[i]) for i in range(4)]\n",
    "centroids = [np.array(centroids[i]) for i in range(4)]"
   ]
  },
  {
   "cell_type": "markdown",
   "metadata": {},
   "source": [
    "## 3.聚类结果可视化"
   ]
  },
  {
   "cell_type": "markdown",
   "metadata": {},
   "source": [
    "可视化后可以看到，黑色的四个点正是这四个簇中心点"
   ]
  },
  {
   "cell_type": "code",
   "execution_count": 117,
   "metadata": {},
   "outputs": [
    {
     "data": {
      "image/png": "[encoded data removed]",
      "text/plain": [
       "<Figure size 432x288 with 1 Axes>"
      ]
     },
     "metadata": {},
     "output_type": "display_data"
    }
   ],
   "source": [
    "''' 画出所有点 '''\n",
    "\n",
    "plt.scatter(cent_points[0][:, 0],cent_points[0][:, 1], color='blue', label='0')\n",
    "plt.scatter(cent_points[1][:, 0],cent_points[1][:, 1], color='orange', label='1')\n",
    "plt.scatter(cent_points[2][:, 0],cent_points[2][:, 1], color='red', label='2')\n",
    "plt.scatter(cent_points[3][:, 0],cent_points[3][:, 1], color='yellow', label='3')\n",
    "\n",
    "''' 画出所有质心 '''\n",
    "\n",
    "for i in range(4):\n",
    "    plt.scatter(centroids[i][0],centroids[i][1], color='black')\n",
    "    \n",
    "plt.xlabel('x')\n",
    "plt.ylabel('y')\n",
    "plt.legend()\n",
    "plt.show()"
   ]
  },
  {
   "cell_type": "markdown",
   "metadata": {},
   "source": [
    "# 结束！"
   ]
  },
  {
   "cell_type": "code",
   "execution_count": null,
   "metadata": {},
   "outputs": [],
   "source": []
  }
 ],
 "metadata": {
  "kernelspec": {
   "display_name": "tensorflow",
   "language": "python",
   "name": "tensorflow"
  },
  "language_info": {
   "codemirror_mode": {
    "name": "ipython",
    "version": 3
   },
   "file_extension": ".py",
   "mimetype": "text/x-python",
   "name": "python",
   "nbconvert_exporter": "python",
   "pygments_lexer": "ipython3",
   "version": "3.5.4"
  }
 },
 "nbformat": 4,
 "nbformat_minor": 2
}
